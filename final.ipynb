{
 "cells": [
  {
   "cell_type": "code",
   "execution_count": 5,
   "metadata": {},
   "outputs": [],
   "source": [
    "import torch\n",
    "from torch import nn, optim, Generator\n",
    "from torch.utils.data import DataLoader, Dataset, random_split\n",
    "from numpy.random import choice\n",
    "from typing import Iterable, Callable, Type, Optional, Union, Tuple, List"
   ]
  },
  {
   "cell_type": "code",
   "execution_count": 158,
   "metadata": {},
   "outputs": [],
   "source": [
    "import pandas as pd\n",
    "import numpy as np\n",
    "from sklearn.preprocessing import LabelEncoder, OneHotEncoder, OrdinalEncoder\n"
   ]
  },
  {
   "cell_type": "code",
   "execution_count": 7,
   "metadata": {},
   "outputs": [],
   "source": [
    "# download data(zipped csv) from kaggle with username and apikey\n",
    "# import os\n",
    "# import json\n",
    "# from kaggle.api.kaggle_api_extended import KaggleApi\n",
    "# with open(\"./kaggle.json\", \"r\") as j:\n",
    "#     for (k, v) in json.load(j).items():\n",
    "#         os.environ[k] = v\n",
    "# api = KaggleApi()\n",
    "# api.authenticate()\n",
    "# # https://www.kaggle.com/competitions/cafa-5-protein-function-prediction\n",
    "# # datasetname\n",
    "# api.dataset_download_files('arnabchaki/data-science-salaries-2023', path=\"./data/\", unzip=True)"
   ]
  },
  {
   "cell_type": "code",
   "execution_count": 8,
   "metadata": {},
   "outputs": [],
   "source": [
    "from operator import mul\n",
    "\n",
    "\n",
    "def product(nums: Iterable[Type], func: Callable[[Type, Type], Type] = mul) -> Type:\n",
    "    \"\"\"return product of iterable\"\"\"\n",
    "    _it = iter(nums)\n",
    "    v: Type = next(_it)\n",
    "    for _v in _it:\n",
    "        v = func(v, _v)\n",
    "    return v"
   ]
  },
  {
   "cell_type": "code",
   "execution_count": 240,
   "metadata": {},
   "outputs": [],
   "source": [
    "class DS_SalaryDataset(Dataset):\n",
    "    \"\"\"DS Salary dataset.\"\"\"\n",
    "\n",
    "    def __init__(self, csv_path=\"./data/ds_salaries.csv\"):\n",
    "        \"\"\"\n",
    "        Args:\n",
    "            csv_path (string): Path to the csv file with annotations.\n",
    "            root_dir (string): Directory with all the images.\n",
    "            transform (callable, optional): Optional transform to be applied\n",
    "                on a sample.\n",
    "        \"\"\"\n",
    "        self.ds_salaries: pd.DataFrame = pd.read_csv(csv_path)\n",
    "        self.nonnumerical_columns = [\n",
    "            c for c, dt in self.ds_salaries.dtypes.items() if dt == 'O']\n",
    "        for c in self.nonnumerical_columns:\n",
    "            self.ds_salaries = pd.get_dummies(\n",
    "                self.ds_salaries, prefix=[c], columns=[c], drop_first=True)\n",
    "        # drop work_year salary salary_in_usd\n",
    "        # normalization\n",
    "        self.feature = nn.functional.normalize(torch.from_numpy(\n",
    "            self.ds_salaries[self.ds_salaries.columns[3:]].to_numpy(dtype=np.float32)), dim=0)\n",
    "\n",
    "        # target: salary_in_usd\n",
    "        self.salary = torch.reshape(torch.tensor(\n",
    "            self.ds_salaries.salary_in_usd.to_numpy(dtype=np.float32)), shape=(self.ds_salaries.salary_in_usd.size,))\n",
    "\n",
    "    def __len__(self):\n",
    "        return self.salary.size()[0]\n",
    "\n",
    "    def __getitem__(self, idx):\n",
    "        if torch.is_tensor(idx):\n",
    "            idx = idx.tolist()\n",
    "        return self.feature[idx], self.salary[idx]\n",
    "\n",
    "\n",
    "def getCustomizedData():\n",
    "    # preprocess\n",
    "    dataset = DS_SalaryDataset()\n",
    "    # train test split\n",
    "    train_count = int(0.7 * len(dataset))\n",
    "    valid_count = int(0.2 * len(dataset))\n",
    "    test_count = len(dataset) - train_count - valid_count\n",
    "    print(train_count, valid_count, test_count)\n",
    "    trainset, valset, testset = random_split(\n",
    "        dataset, (train_count, valid_count, test_count), Generator().manual_seed(42))\n",
    "    datum_size = product(trainset[0][0].size())\n",
    "    return trainset, valset, testset, datum_size"
   ]
  },
  {
   "cell_type": "code",
   "execution_count": 10,
   "metadata": {},
   "outputs": [],
   "source": [
    "from collections import deque\n",
    "\n",
    "\n",
    "class TwoLayerNetwork(nn.Module):\n",
    "\n",
    "    def __init__(self, input_size: int, hidden_size: int, num_classes: int, init_method: Callable[[torch.Tensor], torch.Tensor], active_func: Callable[[], nn.modules.module.Module],\n",
    "                 DO: float, if_BN: bool, store_size: int = 1):\n",
    "        super(TwoLayerNetwork, self).__init__()\n",
    "        self.input_size = input_size\n",
    "        self.hidden_size = hidden_size\n",
    "        self.if_BN = if_BN\n",
    "        # dropout\n",
    "        self.do = nn.Dropout(DO)\n",
    "        # first layer\n",
    "        self.fc1 = nn.Linear(input_size, hidden_size)\n",
    "        # batch norm\n",
    "        self.bn1 = nn.BatchNorm1d(hidden_size)\n",
    "        # activation\n",
    "        self.active_func = active_func()\n",
    "        # second layer\n",
    "        self.fc2 = nn.Linear(hidden_size, num_classes)\n",
    "        # initialize\n",
    "        for param in self.parameters():\n",
    "            init_method(param)\n",
    "        self.storage: deque[List[nn.Parameter]] = deque(maxlen=store_size)\n",
    "\n",
    "    def forward(self, x: torch.Tensor) -> torch.Tensor:\n",
    "        out: torch.Tensor = self.do(x)\n",
    "        out = self.fc1(out)\n",
    "        if self.if_BN:\n",
    "            out = self.bn1(out)\n",
    "        out = self.active_func(out)\n",
    "        out = self.fc2(out)\n",
    "        return out"
   ]
  },
  {
   "cell_type": "code",
   "execution_count": 41,
   "metadata": {},
   "outputs": [],
   "source": [
    "class WD_Regularization(nn.Module):\n",
    "    def __init__(self):\n",
    "        super(WD_Regularization, self).__init__()\n",
    "\n",
    "\n",
    "class L2_Regularization(WD_Regularization):\n",
    "    def __init__(self, weight_decay: float):\n",
    "        super(L2_Regularization, self).__init__()\n",
    "        if weight_decay <= 0:\n",
    "            raise ValueError(\"param weight_decay can not <=0!!\")\n",
    "        self.weight_decay = weight_decay\n",
    "\n",
    "    def forward(self, model: nn.Module) -> Union[torch.Tensor, float]:\n",
    "        reg = 0\n",
    "        for name, parameter in model.named_parameters():\n",
    "            if name in (\"fc1.weight\", \"fc2.weight\"):\n",
    "                reg += torch.sum(parameter**2)\n",
    "        return self.weight_decay * reg\n"
   ]
  },
  {
   "cell_type": "code",
   "execution_count": 202,
   "metadata": {},
   "outputs": [],
   "source": [
    "def validate(model: TwoLayerNetwork, device: str, valset: Dataset[torch.Tensor], criterion: nn.modules.loss._Loss) \\\n",
    "        -> Tuple[float, float]:\n",
    "    \"\"\"return loss, accuracy\"\"\"\n",
    "    # Validate the model\n",
    "    model.to(device)\n",
    "    criterion.to(device)\n",
    "    val_loss = 0.0\n",
    "    model.eval()\n",
    "    with torch.no_grad():\n",
    "        for x, y in DataLoader(valset, batch_size=32, shuffle=True):\n",
    "            x: torch.Tensor = x.view(-1, model.input_size).to(device)\n",
    "            y: torch.Tensor = y.to(device)\n",
    "            outputs: torch.Tensor = model(x)\n",
    "            loss: torch.Tensor = criterion(outputs, y)**0.5\n",
    "            val_loss += loss.item() * x.size(0)\n",
    "        val_loss /= len(valset)\n",
    "    return val_loss"
   ]
  },
  {
   "cell_type": "code",
   "execution_count": 201,
   "metadata": {},
   "outputs": [],
   "source": [
    "def train(model: TwoLayerNetwork, opt: Callable[..., optim.Optimizer], device: str, epochs: float, learning_rate: float, trainset: Dataset[torch.Tensor], valset: Dataset[torch.Tensor], criterion: nn.modules.loss._Loss,\n",
    "          sched: Optional[Callable[[optim.Optimizer], optim.lr_scheduler._LRScheduler]], wd_reg: Optional[WD_Regularization], learning_goal: float, min_lr: float, if_lr_adjust: bool, if_BN: bool, drop_rate: float) \\\n",
    "        -> List[Tuple[float, float, float, float]]:\n",
    "    \"\"\"\n",
    "    Params:\n",
    "        model\n",
    "        opt\n",
    "        device\n",
    "        epochs\n",
    "        learing_rate\n",
    "        criterion\n",
    "        y: label of data\n",
    "        wd_reg, BN, DO: regularization\n",
    "    Results:\n",
    "        history: train_loss, train_accuracy, val_loss, val_accuracy of each epochs\n",
    "    \"\"\"\n",
    "    def forward_backward(optimizer: optim.Optimizer, criterion: nn.modules.loss._Loss, wd_reg: Optional[WD_Regularization], model: TwoLayerNetwork, y: torch.Tensor,\n",
    "                         BN: Optional[nn.modules.batchnorm._BatchNorm], DO: Optional[nn.modules.dropout._DropoutNd]) \\\n",
    "            -> Tuple[torch.Tensor, torch.Tensor]:\n",
    "        \"\"\"\n",
    "        Params:\n",
    "            optimizer\n",
    "            criterion\n",
    "            model\n",
    "            y: label of data\n",
    "            wd_reg, BN, DO: regularization\n",
    "        Results:\n",
    "            ouputs: f(x)\n",
    "            loss_all: f(x) - y\n",
    "        \"\"\"\n",
    "        optimizer.zero_grad()\n",
    "        outputs = model(x)\n",
    "        outputs = outputs if not DO else DO(outputs)\n",
    "        loss_all: torch.Tensor = criterion(\n",
    "            outputs, y)**0.5 + wd_reg(model) if wd_reg else criterion(outputs, y)**0.5\n",
    "        loss_all.backward()\n",
    "        optimizer.step()\n",
    "        return loss_all, outputs\n",
    "    if epochs < 1:\n",
    "        raise ValueError(\"Invalid epoch!!\")\n",
    "    if not 0 <= drop_rate < 1:\n",
    "        raise ValueError(\"Invalid dropout rate!!\")\n",
    "    # init\n",
    "    epoch = 0\n",
    "    init_lr = learning_rate\n",
    "    origin_if_BN = model.if_BN\n",
    "    model.if_BN = if_BN\n",
    "    pre_loss = float(\"inf\") if if_lr_adjust else None\n",
    "    batch_norm = nn.BatchNorm1d(model.hidden_size).to(\n",
    "        device) if if_BN else None\n",
    "    drop_out = nn.Dropout(drop_rate).to(device) if drop_rate != 0. else None\n",
    "    model.to(device)\n",
    "    # if not model.storage[-1]\n",
    "    model.storage.append(list(model.parameters()))\n",
    "    optimizer = opt(model.storage[-1], lr=learning_rate)\n",
    "    scheduler = sched(optimizer) if sched else None\n",
    "    history = []\n",
    "    # Train the model\n",
    "    while epoch < epochs:\n",
    "        train_loss = 0.0\n",
    "        train_correct = 0\n",
    "        model.train()\n",
    "        for x, y in DataLoader(trainset, batch_size=32, shuffle=True):\n",
    "            x: torch.Tensor = x.view(-1, model.input_size).to(device)\n",
    "            y: torch.Tensor = y.to(device=device, dtype=torch.float32)\n",
    "            loss_all, outputs = forward_backward(\n",
    "                optimizer, criterion, wd_reg, model, y, batch_norm, drop_out)\n",
    "            # Learning rate adjustment\n",
    "            if pre_loss:\n",
    "                while pre_loss <= loss_all.item():\n",
    "                    # learning rate vanishing\n",
    "                    if learning_rate < min_lr:\n",
    "                        # return history\n",
    "                        learning_rate = init_lr\n",
    "                        optimizer = opt(model.storage[-1], lr=learning_rate)\n",
    "                        loss_all, outputs = forward_backward(\n",
    "                            optimizer, criterion, wd_reg, model, y, batch_norm, drop_out)\n",
    "                        # raise ValueError(f\"{learning_rate} < {min_lr}\")\n",
    "                        break\n",
    "                    learning_rate *= 0.7\n",
    "                    optimizer = opt(model.storage[-1], lr=learning_rate)\n",
    "                    loss_all, outputs = forward_backward(\n",
    "                        optimizer, criterion, wd_reg, model, y, batch_norm, drop_out)\n",
    "                learning_rate *= 1.2\n",
    "                pre_loss = loss_all.item()\n",
    "            train_loss += loss_all.item() * x.size(0)\n",
    "            model.storage.append(list(model.parameters()))\n",
    "        train_loss /= len(trainset)\n",
    "        # Validate the model\n",
    "        val_loss = validate(\n",
    "            model=model, device=device, valset=valset, criterion=criterion)\n",
    "        # Log statics\n",
    "        history.append((train_loss, val_loss))\n",
    "        # Stopping criteria\n",
    "        if learning_goal > train_loss:\n",
    "            return history\n",
    "        # Update loop\n",
    "        if scheduler:\n",
    "            scheduler.step()\n",
    "        epoch += 1\n",
    "    # restore model\n",
    "    model.if_BN = origin_if_BN\n",
    "    return history"
   ]
  },
  {
   "cell_type": "code",
   "execution_count": 46,
   "metadata": {},
   "outputs": [],
   "source": [
    "def test(model: TwoLayerNetwork, device: str, testset: Dataset[torch.Tensor]) -> float:\n",
    "    \"\"\"return accuracy\"\"\"\n",
    "    return validate(model=model, device=device, valset=testset, criterion=nn.MSELoss())"
   ]
  },
  {
   "cell_type": "code",
   "execution_count": 15,
   "metadata": {},
   "outputs": [],
   "source": [
    "def analogizing(model: TwoLayerNetwork, device: str, trainset: Dataset[torch.Tensor], learning_goal: float, criterion: nn.modules.loss._Loss):\n",
    "    x = torch.stack([x for x, _ in trainset]\n",
    "                    ).view(-1, model.input_size).to(\"cpu\")\n",
    "    y = torch.Tensor([y for _, y in trainset]).to(\"cpu\")\n",
    "    total_amount = len(x)\n",
    "    # get wrong correct indices\n",
    "    new_fc1_w = model.fc1.weight.data.to(device)\n",
    "    new_fc1_b = model.fc1.bias.data.to(device)\n",
    "    new_fc2_w = model.fc2.weight.data.to(device)\n",
    "    relu = nn.ReLU()\n",
    "    logits: torch.Tensor = x\n",
    "    model.eval()\n",
    "    with torch.no_grad():\n",
    "        outputs = relu(x.to(device) @ new_fc1_w.T + new_fc1_b\n",
    "                       ) @ new_fc2_w.T + model.fc2.bias.data.to(device)\n",
    "        logits, predicted = torch.max(outputs.data, 1)\n",
    "        success_condition = predicted == y.to(device)\n",
    "        wrong_indices = torch.nonzero(success_condition != True).to(\"cpu\")\n",
    "    #\n",
    "    init_func: Callable[[torch.Tensor], torch.Tensor] = lambda x: nn.init.xavier_uniform_(\n",
    "        tensor=x) if len(x.shape) > 1 else x\n",
    "    wrong_pointer = len(wrong_indices)\n",
    "    train_correct: int = 0\n",
    "    loss: float = float(\"inf\")\n",
    "    history: List[Tuple[float, float]] = []\n",
    "    while wrong_pointer > 0 and loss > learning_goal:\n",
    "        fc1 = nn.Linear(len(x[0]), 3).to(device)\n",
    "        fc2 = nn.Linear(3, product(model.fc2.bias.size()),\n",
    "                        False).to(device)\n",
    "        # with torch.no_grad():\n",
    "        target = torch.zeros(*torch.Size((total_amount,)))\n",
    "        wrong_pointer -= 1\n",
    "        pointer = wrong_indices[wrong_pointer]\n",
    "        catagory = int(y[pointer])\n",
    "        target[pointer] = catagory\n",
    "        target = target.to(device)\n",
    "        fc2.weight.data[:, :] = 0\n",
    "        fc2.weight.data[catagory, 0] = -2\n",
    "        fc2.weight.data[catagory, 1] = 1\n",
    "        fc2.weight.data[catagory, 2] = 1\n",
    "        delta = 0\n",
    "        intercept = 0\n",
    "        nonz = x\n",
    "        # randomly generate hyperplane which only contain the target x\n",
    "        while nonz.size() != (1, 2) or nonz.tolist()[0][0] != pointer:\n",
    "            for p in fc1.parameters():\n",
    "                init_func(p)\n",
    "            distances = x.to(device) @ fc1.weight.data[0].T\n",
    "            intercept = distances[pointer]\n",
    "            distances -= intercept\n",
    "            # get the shortest distance of other x to hyperplane\n",
    "            if (delta := torch.min(torch.abs(torch.cat(\n",
    "                    (distances[:pointer], distances[pointer + 1:])\n",
    "            )))) == 0:\n",
    "                continue\n",
    "            fc1.bias.data[1] = -intercept + (delta / 2)\n",
    "            fc1.bias.data[2] = -intercept - (delta / 2)\n",
    "            # check if delta too small for float32(default)\n",
    "            if fc1.bias.data[1] == fc1.bias.data[2]:\n",
    "                continue\n",
    "            fc1.bias.data[0] = -intercept\n",
    "            fc1.weight.data[1:] = fc1.weight.data[0]\n",
    "            outputs = relu(x.to(device) @ fc1.weight.data.T + fc1.bias.data\n",
    "                           ) @ fc2.weight.data.T\n",
    "            nonz = torch.nonzero(outputs)\n",
    "        # adjust weight in order to make the output of correct category greater than the others\n",
    "        fc2.weight.data *= logits[pointer].item(\n",
    "        ) / outputs[pointer].sum() + 1\n",
    "        new_fc1_w = torch.cat((new_fc1_w, fc1.weight.data)).to(device)\n",
    "        new_fc1_b = torch.cat((new_fc1_b, fc1.bias.data)).to(device)\n",
    "        new_fc2_w = torch.cat((new_fc2_w, fc2.weight.data), 1).to(device)\n",
    "        with torch.no_grad():\n",
    "            outputs = relu(x.to(device) @ new_fc1_w.T + new_fc1_b\n",
    "                           ) @ new_fc2_w.T + model.fc2.bias.data.to(device)\n",
    "            loss = criterion(\n",
    "                outputs, y.to(device=device, dtype=torch.long)).item()\n",
    "            _, predicted = torch.max(outputs.data, 1)\n",
    "            train_correct = (predicted == y.to(device)).sum().item()\n",
    "        history.append((loss, train_correct / total_amount))\n",
    "    # construct new model\n",
    "    new_model = TwoLayerNetwork(model.input_size, len(new_fc1_b), product(\n",
    "        model.fc2.bias.size()), lambda _: _, lambda: model.active_func, model.do.p, model.if_BN)\n",
    "    for name, param in model.named_parameters():\n",
    "        layer_name, variable_type = name.split(\".\")\n",
    "        if layer_name == \"fc1\":\n",
    "            setattr(getattr(getattr(new_model, layer_name), variable_type),\n",
    "                    \"data\", eval(f\"new_{layer_name}_{variable_type[0]}\"))\n",
    "        elif layer_name == \"fc2\":\n",
    "            if variable_type == \"weight\":\n",
    "                setattr(getattr(getattr(new_model, layer_name), variable_type),\n",
    "                        \"data\", eval(f\"new_{layer_name}_{variable_type[0]}\"))\n",
    "            elif variable_type == \"bias\":\n",
    "                new_model.fc2.bias.data[:] = model.fc2.bias.data[:]\n",
    "            else:\n",
    "                pass\n",
    "                setattr(getattr(new_model, layer_name), variable_type, param)\n",
    "        else:\n",
    "            setattr(getattr(new_model, layer_name), variable_type, param)\n",
    "    return new_model\n"
   ]
  },
  {
   "cell_type": "code",
   "execution_count": 241,
   "metadata": {},
   "outputs": [
    {
     "name": "stdout",
     "output_type": "stream",
     "text": [
      "2628 751 376\n"
     ]
    }
   ],
   "source": [
    "device = \"cuda\" if torch.cuda.is_available(\n",
    ") else \"mps\" if torch.backends.mps.is_available() else \"cpu\"\n",
    "trainset, valset, testset, input_size = getCustomizedData()\n",
    "criterion = nn.MSELoss()\n"
   ]
  },
  {
   "attachments": {},
   "cell_type": "markdown",
   "metadata": {},
   "source": [
    "### Train"
   ]
  },
  {
   "cell_type": "code",
   "execution_count": 262,
   "metadata": {},
   "outputs": [
    {
     "name": "stderr",
     "output_type": "stream",
     "text": [
      "c:\\VS_Workplace\\NN\\venv\\lib\\site-packages\\torch\\nn\\modules\\loss.py:536: UserWarning: Using a target size (torch.Size([32])) that is different to the input size (torch.Size([32, 1])). This will likely lead to incorrect results due to broadcasting. Please ensure they have the same size.\n",
      "  return F.mse_loss(input, target, reduction=self.reduction)\n",
      "c:\\VS_Workplace\\NN\\venv\\lib\\site-packages\\torch\\nn\\modules\\loss.py:536: UserWarning: Using a target size (torch.Size([24])) that is different to the input size (torch.Size([24, 1])). This will likely lead to incorrect results due to broadcasting. Please ensure they have the same size.\n",
      "  return F.mse_loss(input, target, reduction=self.reduction)\n",
      "c:\\VS_Workplace\\NN\\venv\\lib\\site-packages\\torch\\nn\\modules\\loss.py:536: UserWarning: Using a target size (torch.Size([4])) that is different to the input size (torch.Size([4, 1])). This will likely lead to incorrect results due to broadcasting. Please ensure they have the same size.\n",
      "  return F.mse_loss(input, target, reduction=self.reduction)\n",
      "c:\\VS_Workplace\\NN\\venv\\lib\\site-packages\\torch\\nn\\modules\\loss.py:536: UserWarning: Using a target size (torch.Size([15])) that is different to the input size (torch.Size([15, 1])). This will likely lead to incorrect results due to broadcasting. Please ensure they have the same size.\n",
      "  return F.mse_loss(input, target, reduction=self.reduction)\n"
     ]
    },
    {
     "name": "stdout",
     "output_type": "stream",
     "text": [
      "150978.45777925532\n",
      "[(150428.4724362633, 152691.77296937417), (150439.64866343228, 152700.21006366512), (150319.89906773213, 152574.10481857523), (150312.72508799468, 152511.55051597868), (150298.95236396499, 152585.50143558587), (150232.63737871006, 152542.58763315578), (150267.63628472222, 152485.87645639147), (150341.40712994672, 152425.85818908122), (150130.35527254565, 152387.00902962717), (150158.33701959666, 152213.71219623834), (150127.61560597413, 152187.41555009986), (149878.4955883752, 152087.15675973703), (149520.3413717656, 151696.88885652463), (149150.97039098173, 151104.05249250997), (148304.60715135085, 150287.52328145807), (147565.62811548705, 148225.73094207724), (145846.3625975076, 147300.8214464048), (143367.65151731356, 144219.69906790945), (139808.21527777778, 139126.13712966046), (134765.82926655252, 133376.96296604528), (127798.2366699962, 125240.82454643809), (119482.15108923135, 116513.47263544441), (109320.54777872907, 105021.00262150467), (100464.22951151065, 94441.92596329894), (90436.55119149544, 84414.8314747004), (85758.72175846652, 78831.9670543442), (82949.53228453196, 75333.65843978862), (81769.2390839041, 72978.66805717377), (81836.79207096652, 72764.53057381824), (82534.46926429319, 70716.48849450733), (80264.03574486301, 70977.42558879827), (82356.07552677892, 70020.17691515479), (79755.29779062024, 70088.99220830559), (81603.71826246195, 70985.4419732024), (81224.19028253424, 70357.23335032456), (79930.34732924277, 70203.16118092544), (81229.11873335236, 69999.20520035786), (82404.16422897641, 69880.31823714214), (79984.21194824962, 70482.15272345206), (81341.98068873669, 70092.61724471538), (81312.07967679795, 70556.31126206725), (81702.62736039764, 70064.09335469374), (82326.33608019406, 69880.06776901631), (80785.18556768454, 70571.37473993009), (82384.90605974125, 70539.46523905626), (81731.51168902207, 70435.74880367843), (81532.84927939497, 70233.66826522969), (81177.26105284436, 70562.17816869174), (82069.05447940448, 70478.00584637151), (81135.91747526637, 70319.66300661617), (80265.16615534628, 70478.16070239681), (81605.60963660579, 69953.83243175766), (80998.58537861491, 70125.72011276631), (81486.75815734398, 70246.85036617843), (82010.0014447774, 70083.68134154461), (82731.22594415906, 69900.00149800266), (80917.66147617009, 70185.44888065913), (80283.74224695587, 70129.34500353695), (80980.39205194064, 69079.27149737849), (82917.80838565448, 69553.25727675599), (83123.21096128234, 69743.48125416112), (81567.77808100266, 70144.12548893143), (80185.78885440448, 70466.25290238016), (81007.64206383181, 70580.6224929261), (80677.45091026921, 70418.87230567576), (81845.6303094083, 70631.46835989514), (82168.92759465372, 69751.69016311584), (81782.70832144216, 70223.95363473702), (81612.04781440258, 70386.96024571404), (81625.02765886606, 70665.86592876165), (82350.62366224315, 70311.56252080559), (82016.19788099315, 70347.13647428429), (80502.96983209666, 70232.79202729693), (80518.9743091229, 70364.76106857523), (80171.92335545091, 70296.50047852863), (83693.98675917998, 70420.34355234687), (82656.8456644787, 70367.10755451066), (82252.77733780441, 70124.425807257), (83209.8886748478, 70255.92124042942), (80868.00351978691, 69463.70957473369), (83514.04809979071, 69861.77146096871), (82101.33533105023, 69956.81065870506), (81593.68242841515, 69942.00263710886), (80422.35578981164, 69764.73265853862), (80613.56010392884, 70099.23049995839), (81030.38279466324, 70345.46851073569), (81495.63526802702, 70062.28505742343), (80747.92358732877, 70553.58105338716), (81952.13624904871, 70547.4419627996), (82205.70000356736, 70294.04781125166), (80288.37010083714, 69623.26605151464), (80410.48536196728, 69936.62022511651), (81480.77187381088, 70077.34699047104), (82958.97292380137, 70152.65469998335), (81996.96942185122, 70152.91997128828), (82748.12011272831, 70093.3680301265), (81391.24491057839, 70058.46060461052), (80200.32921898783, 69668.93807215379), (79599.41183885084, 70229.29331204228), (81532.47797754947, 69676.411841503)]\n",
      "65824.74966755319\n"
     ]
    }
   ],
   "source": [
    "hidden_size = 256\n",
    "epochs = 100\n",
    "init: Callable[[torch.Tensor], torch.Tensor] = lambda x: nn.init.xavier_uniform_(\n",
    "    tensor=x) if len(x.shape) > 1 else x\n",
    "active = nn.ReLU\n",
    "model = TwoLayerNetwork(input_size, hidden_size,\n",
    "                        1, init, active, 0.2, True)\n",
    "optimize = optim.SGD\n",
    "schedule = None\n",
    "learning_rate = 0.001\n",
    "min_lr = learning_rate * 1e-5\n",
    "l2_reg = L2_Regularization(0.001)\n",
    "baseline = test(model, device, testset)\n",
    "learning_goal = 50000\n",
    "history = train(model, optimize, device, epochs, learning_rate,\n",
    "                trainset, valset, criterion, schedule, l2_reg, learning_goal, min_lr, True, True, 0.2)\n",
    "result = test(model, device, testset)\n",
    "print(baseline, history, result, sep=\"\\n\")\n",
    "model_path = r\"./data/final\"\n",
    "torch.save(model, model_path)"
   ]
  },
  {
   "cell_type": "code",
   "execution_count": 194,
   "metadata": {},
   "outputs": [],
   "source": [
    "dataset = DS_SalaryDataset()\n"
   ]
  },
  {
   "cell_type": "code",
   "execution_count": 263,
   "metadata": {},
   "outputs": [],
   "source": [
    "model.to(device)\n",
    "model.eval()\n",
    "with torch.no_grad():\n",
    "    for x, y in DataLoader(dataset, batch_size=len(dataset)):\n",
    "        outputs: torch.Tensor = model(x.view(-1, model.input_size).to(device))"
   ]
  },
  {
   "cell_type": "code",
   "execution_count": 264,
   "metadata": {},
   "outputs": [
    {
     "data": {
      "image/png": "[encoded data removed]",
      "text/plain": [
       "<Figure size 640x480 with 1 Axes>"
      ]
     },
     "metadata": {},
     "output_type": "display_data"
    }
   ],
   "source": [
    "import matplotlib.pyplot as plt\n",
    "window = len(dataset)\n",
    "# plt.scatter(range(window), outputs.cpu()[:window])\n",
    "# plt.scatter(range(window), y.cpu()[:window])\n",
    "plt.scatter(range(window), (y.cpu()-outputs.cpu().view(y.size()))[:window])\n",
    "plt.show()"
   ]
  },
  {
   "cell_type": "code",
   "execution_count": 189,
   "metadata": {},
   "outputs": [],
   "source": [
    "from sklearn.metrics import r2_score, mean_squared_error, mean_absolute_error\n"
   ]
  },
  {
   "cell_type": "code",
   "execution_count": 265,
   "metadata": {},
   "outputs": [
    {
     "data": {
      "text/plain": [
       "-0.20913703150977336"
      ]
     },
     "execution_count": 265,
     "metadata": {},
     "output_type": "execute_result"
    }
   ],
   "source": [
    "r2_score(y.cpu(), outputs.cpu())"
   ]
  },
  {
   "cell_type": "code",
   "execution_count": 266,
   "metadata": {},
   "outputs": [
    {
     "data": {
      "text/plain": [
       "4806263000.0"
      ]
     },
     "execution_count": 266,
     "metadata": {},
     "output_type": "execute_result"
    }
   ],
   "source": [
    "mean_squared_error(y.cpu(), outputs.cpu())"
   ]
  },
  {
   "cell_type": "code",
   "execution_count": 267,
   "metadata": {},
   "outputs": [
    {
     "data": {
      "text/plain": [
       "69327.21531981506"
      ]
     },
     "execution_count": 267,
     "metadata": {},
     "output_type": "execute_result"
    }
   ],
   "source": [
    "mean_squared_error(y.cpu(), outputs.cpu())**0.5"
   ]
  },
  {
   "cell_type": "code",
   "execution_count": 268,
   "metadata": {},
   "outputs": [
    {
     "data": {
      "text/plain": [
       "53838.703"
      ]
     },
     "execution_count": 268,
     "metadata": {},
     "output_type": "execute_result"
    }
   ],
   "source": [
    "mean_absolute_error(y.cpu(), outputs.cpu())"
   ]
  },
  {
   "cell_type": "code",
   "execution_count": null,
   "metadata": {},
   "outputs": [],
   "source": [
    "analogizing(model, device, trainset, learning_goal, criterion)"
   ]
  }
 ],
 "metadata": {
  "kernelspec": {
   "display_name": "venv",
   "language": "python",
   "name": "python3"
  },
  "language_info": {
   "codemirror_mode": {
    "name": "ipython",
    "version": 3
   },
   "file_extension": ".py",
   "mimetype": "text/x-python",
   "name": "python",
   "nbconvert_exporter": "python",
   "pygments_lexer": "ipython3",
   "version": "3.9.5"
  },
  "orig_nbformat": 4
 },
 "nbformat": 4,
 "nbformat_minor": 2
}
